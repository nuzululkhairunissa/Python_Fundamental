{
 "cells": [
  {
   "cell_type": "markdown",
   "metadata": {},
   "source": [
    "## List"
   ]
  },
  {
   "cell_type": "markdown",
   "metadata": {},
   "source": [
    "### Mengakses List"
   ]
  },
  {
   "cell_type": "code",
   "execution_count": 31,
   "metadata": {},
   "outputs": [
    {
     "name": "stdout",
     "output_type": "stream",
     "text": [
      "[9, 16]\n"
     ]
    }
   ],
   "source": [
    "Data = [1,4,9,16,25,36,49,64]\n",
    "Subdata1 = Data[2:4]\n",
    "print(Subdata1)"
   ]
  },
  {
   "cell_type": "code",
   "execution_count": 32,
   "metadata": {},
   "outputs": [
    {
     "name": "stdout",
     "output_type": "stream",
     "text": [
      "['kunci', 'ember', 'jaket', 'ban', 'mobil']\n"
     ]
    }
   ],
   "source": [
    "Barang = ['kunci','ember','jaket','ban','mobil']\n",
    "print(Barang)"
   ]
  },
  {
   "cell_type": "code",
   "execution_count": 8,
   "metadata": {},
   "outputs": [
    {
     "name": "stdout",
     "output_type": "stream",
     "text": [
      "[49, 64]\n"
     ]
    }
   ],
   "source": [
    "Subdata2 = Data[-2:]\n",
    "print(Subdata2)"
   ]
  },
  {
   "cell_type": "code",
   "execution_count": 12,
   "metadata": {},
   "outputs": [
    {
     "name": "stdout",
     "output_type": "stream",
     "text": [
      "[1, 4]\n"
     ]
    }
   ],
   "source": [
    "Subdata3 = Data[:2]\n",
    "print(Subdata3)"
   ]
  },
  {
   "cell_type": "markdown",
   "metadata": {},
   "source": [
    "### Menambah List"
   ]
  },
  {
   "cell_type": "code",
   "execution_count": 11,
   "metadata": {},
   "outputs": [
    {
     "name": "stdout",
     "output_type": "stream",
     "text": [
      "[1, 4, 9, 16, 25, 36, 49, 64, 100, 200, 300, 400, 500, 600, 700, 800]\n"
     ]
    }
   ],
   "source": [
    "Data2 = [100,200,300,400,500,600,700,800]\n",
    "\n",
    "Data3 = Data + Data2\n",
    "print(Data3)"
   ]
  },
  {
   "cell_type": "markdown",
   "metadata": {},
   "source": [
    "### Merubah Konten dari List"
   ]
  },
  {
   "cell_type": "code",
   "execution_count": 17,
   "metadata": {},
   "outputs": [
    {
     "name": "stdout",
     "output_type": "stream",
     "text": [
      "[1, 4, 9, 16, 87, 36, 49, 64]\n"
     ]
    }
   ],
   "source": [
    "Data[4] = 87\n",
    "print(Data)"
   ]
  },
  {
   "cell_type": "markdown",
   "metadata": {},
   "source": [
    "### Mengcopy list ke variable baru"
   ]
  },
  {
   "cell_type": "code",
   "execution_count": 16,
   "metadata": {},
   "outputs": [
    {
     "name": "stdout",
     "output_type": "stream",
     "text": [
      "[1, 4, 9, 16, 87, 36, 49, 64]\n"
     ]
    }
   ],
   "source": [
    "a = Data[:]\n",
    "a[4] = 87\n",
    "print(Data)"
   ]
  },
  {
   "cell_type": "markdown",
   "metadata": {},
   "source": [
    "### Merubah content list dengan menggunakan metoda slicing"
   ]
  },
  {
   "cell_type": "code",
   "execution_count": 27,
   "metadata": {},
   "outputs": [
    {
     "name": "stdout",
     "output_type": "stream",
     "text": [
      "[1, 4, 9, 11, 12, 36, 49, 64]\n"
     ]
    }
   ],
   "source": [
    "Data = [1,4,9,16,25,36,49,64]\n",
    "\n",
    "Data[3:5] = [11,12]\n",
    "print(Data)"
   ]
  },
  {
   "cell_type": "markdown",
   "metadata": {},
   "source": [
    "### List dalam list"
   ]
  },
  {
   "cell_type": "code",
   "execution_count": 19,
   "metadata": {},
   "outputs": [
    {
     "name": "stdout",
     "output_type": "stream",
     "text": [
      "[[1, 4, 9, 11, 12, 36, 49, 64], [100, 200, 300, 400, 500, 600, 700, 800]]\n"
     ]
    }
   ],
   "source": [
    "x = [Data,Data2]\n",
    "print(x)"
   ]
  },
  {
   "cell_type": "markdown",
   "metadata": {},
   "source": [
    "### Mengakses list dalam multidimensional list"
   ]
  },
  {
   "cell_type": "code",
   "execution_count": 22,
   "metadata": {},
   "outputs": [
    {
     "name": "stdout",
     "output_type": "stream",
     "text": [
      "[[1, 4, 9, 11, 12, 36, 49, 64], [100, 200, 300, 400, 500, 600, 700, 800]]\n",
      "500\n"
     ]
    }
   ],
   "source": [
    "x = [Data,Data2]\n",
    "y = x[1][4]\n",
    "print(x)\n",
    "print(y)"
   ]
  },
  {
   "cell_type": "markdown",
   "metadata": {},
   "source": [
    "### Methods untuk List"
   ]
  },
  {
   "cell_type": "markdown",
   "metadata": {},
   "source": [
    "### Method untuk menambah data kedalam list"
   ]
  },
  {
   "cell_type": "code",
   "execution_count": 46,
   "metadata": {},
   "outputs": [
    {
     "name": "stdout",
     "output_type": "stream",
     "text": [
      "[1, 4, 9, 16, 25, 36, 49, 64, 30, 30]\n"
     ]
    }
   ],
   "source": [
    "Data.append(30)\n",
    "print(Data)"
   ]
  },
  {
   "cell_type": "code",
   "execution_count": 36,
   "metadata": {},
   "outputs": [
    {
     "name": "stdout",
     "output_type": "stream",
     "text": [
      "['kunci', 'ember', 'jaket', 'ban', 'mobil']\n"
     ]
    }
   ],
   "source": [
    "Barang = ['kunci','ember','jaket','ban','mobil']\n",
    "print(Barang)"
   ]
  },
  {
   "cell_type": "code",
   "execution_count": 38,
   "metadata": {},
   "outputs": [
    {
     "name": "stdout",
     "output_type": "stream",
     "text": [
      "['kunci', 'ember', 'jaket', 'ban', 'mobil', 'sepeda', 'sepeda']\n"
     ]
    }
   ],
   "source": [
    "Barang.append('sepeda')\n",
    "print(Barang)"
   ]
  },
  {
   "cell_type": "code",
   "execution_count": 40,
   "metadata": {},
   "outputs": [
    {
     "name": "stdout",
     "output_type": "stream",
     "text": [
      "t\n",
      "e\n",
      "s\n",
      "t\n"
     ]
    }
   ],
   "source": [
    "df = 'test'\n",
    "for i in df:\n",
    "    print(i)"
   ]
  },
  {
   "cell_type": "code",
   "execution_count": 42,
   "metadata": {},
   "outputs": [
    {
     "name": "stdout",
     "output_type": "stream",
     "text": [
      "['kunci', 'ember', 'jaket', 'ban', 'mobil', 'sepeda', 'sepeda', 'd', 'o', 'm', 'p', 'e', 't', 'd', 'o', 'm', 'p', 'e', 't']\n"
     ]
    }
   ],
   "source": [
    "Barang.extend('dompet')\n",
    "print(Barang)"
   ]
  },
  {
   "cell_type": "code",
   "execution_count": 45,
   "metadata": {},
   "outputs": [
    {
     "name": "stdout",
     "output_type": "stream",
     "text": [
      "['kunci', 'ember', 'jaket', 'motor', 'motor', 'mmotor', 'ban', 'mobil', 'sepeda', 'sepeda', 'd', 'o', 'm', 'p', 'e', 't', 'd', 'o', 'm', 'p', 'e', 't']\n"
     ]
    }
   ],
   "source": [
    "Barang.insert(3,'motor')\n",
    "print(Barang)"
   ]
  },
  {
   "cell_type": "markdown",
   "metadata": {},
   "source": [
    "### Method untuk menghitung anggota"
   ]
  },
  {
   "cell_type": "code",
   "execution_count": 48,
   "metadata": {},
   "outputs": [
    {
     "name": "stdout",
     "output_type": "stream",
     "text": [
      "Jumlah sepeda adalah:  2\n"
     ]
    }
   ],
   "source": [
    "jumlahSepeda = Barang.count('sepeda')\n",
    "print(\"Jumlah sepeda adalah: \", jumlahSepeda)"
   ]
  },
  {
   "cell_type": "markdown",
   "metadata": {},
   "source": [
    "### Meremove Data"
   ]
  },
  {
   "cell_type": "code",
   "execution_count": 50,
   "metadata": {},
   "outputs": [
    {
     "name": "stdout",
     "output_type": "stream",
     "text": [
      "['kunci', 'ember', 'jaket', 'motor', 'motor', 'mmotor', 'ban', 'mobil', 'd', 'o', 'm', 'p', 'e', 't', 'd', 'o', 'm', 'p', 'e', 't']\n"
     ]
    }
   ],
   "source": [
    "Barang.remove('sepeda')\n",
    "print(Barang)"
   ]
  },
  {
   "cell_type": "markdown",
   "metadata": {},
   "source": [
    "## Lainnya"
   ]
  },
  {
   "cell_type": "code",
   "execution_count": 52,
   "metadata": {},
   "outputs": [
    {
     "name": "stdout",
     "output_type": "stream",
     "text": [
      "['kunci', 'ember', 'jaket', 'motor', 'motor', 'mmotor', 'ban', 'mobil', 'd', 'o', 'm', 'p', 'e', 't', 'd', 'o', 'm', 'p', 'e', 't']\n"
     ]
    }
   ],
   "source": [
    "Barang.reverse()\n",
    "print(Barang)"
   ]
  },
  {
   "cell_type": "code",
   "execution_count": 54,
   "metadata": {},
   "outputs": [
    {
     "name": "stdout",
     "output_type": "stream",
     "text": [
      "['kunci', 'ember', 'jaket', 'motor', 'motor', 'mmotor', 'ban', 'mobil', 'd', 'o', 'm', 'p', 'e', 't', 'd', 'o', 'm', 'p', 'e', 't', 'gelas', 'gelas']\n",
      "['kunci', 'ember', 'jaket', 'motor', 'motor', 'mmotor', 'ban', 'mobil', 'd', 'o', 'm', 'p', 'e', 't', 'd', 'o', 'm', 'p', 'e', 't', 'gelas']\n"
     ]
    }
   ],
   "source": [
    "Stuff = Barang.copy()\n",
    "Stuff.append('gelas')\n",
    "print(Stuff)\n",
    "print(Barang)"
   ]
  },
  {
   "cell_type": "markdown",
   "metadata": {},
   "source": [
    "### Function yang bisa kita gunakan kepada List"
   ]
  },
  {
   "cell_type": "code",
   "execution_count": 30,
   "metadata": {},
   "outputs": [
    {
     "name": "stdout",
     "output_type": "stream",
     "text": [
      "9\n"
     ]
    }
   ],
   "source": [
    "panjang_list = len(Data)\n",
    "print(panjang_list)"
   ]
  },
  {
   "cell_type": "code",
   "execution_count": null,
   "metadata": {},
   "outputs": [],
   "source": []
  }
 ],
 "metadata": {
  "kernelspec": {
   "display_name": "Python 3",
   "language": "python",
   "name": "python3"
  },
  "language_info": {
   "codemirror_mode": {
    "name": "ipython",
    "version": 3
   },
   "file_extension": ".py",
   "mimetype": "text/x-python",
   "name": "python",
   "nbconvert_exporter": "python",
   "pygments_lexer": "ipython3",
   "version": "3.7.4"
  }
 },
 "nbformat": 4,
 "nbformat_minor": 2
}
