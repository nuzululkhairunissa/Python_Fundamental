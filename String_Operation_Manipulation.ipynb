{
 "cells": [
  {
   "cell_type": "code",
   "execution_count": 3,
   "metadata": {},
   "outputs": [
    {
     "name": "stdout",
     "output_type": "stream",
     "text": [
      "ini adalah string\n",
      "<class 'str'>\n"
     ]
    }
   ],
   "source": [
    "data = \"ini adalah string\"\n",
    "print(data)\n",
    "print(type(data))"
   ]
  },
  {
   "cell_type": "markdown",
   "metadata": {},
   "source": [
    "## 1. Cara Membuat String"
   ]
  },
  {
   "cell_type": "markdown",
   "metadata": {},
   "source": [
    "### 1. dengan menggunakan single quote '...'"
   ]
  },
  {
   "cell_type": "code",
   "execution_count": 10,
   "metadata": {},
   "outputs": [
    {
     "name": "stdout",
     "output_type": "stream",
     "text": [
      "Menggunakan single quote\n"
     ]
    }
   ],
   "source": [
    "data = 'Menggunakan single quote'\n",
    "print(data)"
   ]
  },
  {
   "cell_type": "markdown",
   "metadata": {},
   "source": [
    "### 2. dengan menggunakan double quote \"...\""
   ]
  },
  {
   "cell_type": "code",
   "execution_count": 8,
   "metadata": {},
   "outputs": [
    {
     "name": "stdout",
     "output_type": "stream",
     "text": [
      "Menggunakan double quote\n"
     ]
    }
   ],
   "source": [
    "data = \"Menggunakan double quote\"\n",
    "print(data)"
   ]
  },
  {
   "cell_type": "code",
   "execution_count": 9,
   "metadata": {},
   "outputs": [
    {
     "name": "stdout",
     "output_type": "stream",
     "text": [
      "\"Halo, apa kabar?\"\n"
     ]
    }
   ],
   "source": [
    "print('\"Halo, apa kabar?\"')"
   ]
  },
  {
   "cell_type": "markdown",
   "metadata": {},
   "source": [
    "### 3. Menggunakan tanda \\"
   ]
  },
  {
   "cell_type": "code",
   "execution_count": 1,
   "metadata": {},
   "outputs": [
    {
     "name": "stdout",
     "output_type": "stream",
     "text": [
      "mari shalat jum'at\n"
     ]
    }
   ],
   "source": [
    "print('mari shalat jum\\'at')"
   ]
  },
  {
   "cell_type": "code",
   "execution_count": 4,
   "metadata": {},
   "outputs": [
    {
     "name": "stdout",
     "output_type": "stream",
     "text": [
      "g'day, isn't it?\n"
     ]
    }
   ],
   "source": [
    "print('g\\'day, isn\\'t it?')"
   ]
  },
  {
   "cell_type": "markdown",
   "metadata": {},
   "source": [
    "4. Backslash"
   ]
  },
  {
   "cell_type": "code",
   "execution_count": 5,
   "metadata": {},
   "outputs": [
    {
     "name": "stdout",
     "output_type": "stream",
     "text": [
      "C:\\user\\Ucup\n"
     ]
    }
   ],
   "source": [
    "print(\"C:\\\\user\\\\Ucup\")"
   ]
  },
  {
   "cell_type": "markdown",
   "metadata": {},
   "source": [
    "### 5. tab"
   ]
  },
  {
   "cell_type": "code",
   "execution_count": 8,
   "metadata": {},
   "outputs": [
    {
     "name": "stdout",
     "output_type": "stream",
     "text": [
      "selamat \tpagi, jauhan\n"
     ]
    }
   ],
   "source": [
    "print(\"selamat \\tpagi, jauhan\")"
   ]
  },
  {
   "cell_type": "markdown",
   "metadata": {},
   "source": [
    "### 6. backspace"
   ]
  },
  {
   "cell_type": "code",
   "execution_count": 9,
   "metadata": {},
   "outputs": [
    {
     "name": "stdout",
     "output_type": "stream",
     "text": [
      "selamat \bpagi, deketan\n"
     ]
    }
   ],
   "source": [
    "print(\"selamat \\bpagi, deketan\")"
   ]
  },
  {
   "cell_type": "markdown",
   "metadata": {},
   "source": [
    "### 7. Newline"
   ]
  },
  {
   "cell_type": "code",
   "execution_count": 11,
   "metadata": {},
   "outputs": [
    {
     "name": "stdout",
     "output_type": "stream",
     "text": [
      "baris pertama \n",
      "baris kedua\n"
     ]
    }
   ],
   "source": [
    "print(\"baris pertama \\nbaris kedua\") # Line feed -> linux"
   ]
  },
  {
   "cell_type": "code",
   "execution_count": 12,
   "metadata": {},
   "outputs": [
    {
     "name": "stdout",
     "output_type": "stream",
     "text": [
      "baris pertama \r",
      "baris kedua\n"
     ]
    }
   ],
   "source": [
    "print(\"baris pertama \\rbaris kedua\") # Carriage Return -> commodore"
   ]
  },
  {
   "cell_type": "code",
   "execution_count": 13,
   "metadata": {},
   "outputs": [
    {
     "name": "stdout",
     "output_type": "stream",
     "text": [
      "baris pertama \r\n",
      "baris kedua\n"
     ]
    }
   ],
   "source": [
    "print(\"baris pertama \\r\\nbaris kedua\") #Line feed carriage return -> windows"
   ]
  },
  {
   "cell_type": "markdown",
   "metadata": {},
   "source": [
    "### 8. String Literar atau raw"
   ]
  },
  {
   "cell_type": "code",
   "execution_count": 14,
   "metadata": {},
   "outputs": [
    {
     "name": "stdout",
     "output_type": "stream",
     "text": [
      "C:\\new folder\n"
     ]
    }
   ],
   "source": [
    "print('C:\\\\new folder')"
   ]
  },
  {
   "cell_type": "code",
   "execution_count": 15,
   "metadata": {},
   "outputs": [
    {
     "name": "stdout",
     "output_type": "stream",
     "text": [
      "C:\\new folder\n"
     ]
    }
   ],
   "source": [
    "#Menggunakan raw string\n",
    "print(r'C:\\new folder')"
   ]
  },
  {
   "cell_type": "markdown",
   "metadata": {},
   "source": [
    "### 9. Multiline literal string"
   ]
  },
  {
   "cell_type": "code",
   "execution_count": 16,
   "metadata": {},
   "outputs": [
    {
     "name": "stdout",
     "output_type": "stream",
     "text": [
      "\n",
      "Nama : ucup\n",
      "Kelas : 3 SD\n",
      "\n"
     ]
    }
   ],
   "source": [
    "print(\"\"\"\n",
    "Nama : ucup\n",
    "Kelas : 3 SD\n",
    "\"\"\")"
   ]
  },
  {
   "cell_type": "markdown",
   "metadata": {},
   "source": [
    "### 10. Multiline literal string dan RAW"
   ]
  },
  {
   "cell_type": "code",
   "execution_count": 20,
   "metadata": {},
   "outputs": [
    {
     "name": "stdout",
     "output_type": "stream",
     "text": [
      "\n",
      "Nama : Ucup\n",
      "Kelas : 3 SD\n",
      "Website : www.ucup.com/newID\n",
      "\n"
     ]
    }
   ],
   "source": [
    "print(r\"\"\"\n",
    "Nama : Ucup\n",
    "Kelas : 3 SD\n",
    "Website : www.ucup.com/newID\n",
    "\"\"\")"
   ]
  },
  {
   "cell_type": "markdown",
   "metadata": {},
   "source": [
    "## 2. Operasi dan Manipulasi String"
   ]
  },
  {
   "cell_type": "markdown",
   "metadata": {},
   "source": [
    "### 1. Menyambung String (Concatenate)"
   ]
  },
  {
   "cell_type": "code",
   "execution_count": 25,
   "metadata": {},
   "outputs": [
    {
     "name": "stdout",
     "output_type": "stream",
     "text": [
      "ucup D Fame\n"
     ]
    }
   ],
   "source": [
    "nama_pertama = \"ucup\"\n",
    "nama_tengah = \"D\"\n",
    "nama_akhir = \"Fame\"\n",
    "\n",
    "nama_lengkap = nama_pertama + \" \" + nama_tengah + \" \" + nama_akhir\n",
    "print(nama_lengkap)"
   ]
  },
  {
   "cell_type": "markdown",
   "metadata": {},
   "source": [
    "### 2. Menghitung panjang dari string"
   ]
  },
  {
   "cell_type": "code",
   "execution_count": 28,
   "metadata": {},
   "outputs": [
    {
     "name": "stdout",
     "output_type": "stream",
     "text": [
      "panjang dari ucup D Fame = 11\n"
     ]
    }
   ],
   "source": [
    "panjang = len(nama_lengkap)\n",
    "print(\"panjang dari \" + nama_lengkap + \" = \" + str(panjang))"
   ]
  },
  {
   "cell_type": "markdown",
   "metadata": {},
   "source": [
    "### 3. Operator untuk String"
   ]
  },
  {
   "cell_type": "markdown",
   "metadata": {},
   "source": [
    "**Mengecek apakah ada komponen char atau string di string**"
   ]
  },
  {
   "cell_type": "code",
   "execution_count": 33,
   "metadata": {},
   "outputs": [
    {
     "name": "stdout",
     "output_type": "stream",
     "text": [
      "string D ada di ucup D Fame = True\n"
     ]
    }
   ],
   "source": [
    "d = \"D\"\n",
    "status = d in nama_lengkap\n",
    "print(\"string \" + d + \" ada di \" + nama_lengkap + \" = \" + str(status))"
   ]
  },
  {
   "cell_type": "code",
   "execution_count": 34,
   "metadata": {},
   "outputs": [
    {
     "name": "stdout",
     "output_type": "stream",
     "text": [
      "string d tidak ada di ucup D Fame = True\n"
     ]
    }
   ],
   "source": [
    "d = \"d\"\n",
    "status = d not in nama_lengkap\n",
    "print(\"string \" + d + \" tidak ada di \" + nama_lengkap + \" = \" + str(status))"
   ]
  },
  {
   "cell_type": "markdown",
   "metadata": {},
   "source": [
    "**Mengulang string**"
   ]
  },
  {
   "cell_type": "code",
   "execution_count": 35,
   "metadata": {},
   "outputs": [
    {
     "name": "stdout",
     "output_type": "stream",
     "text": [
      "wkwkwkwkwkwkwkwkwkwk\n"
     ]
    }
   ],
   "source": [
    "print(\"wk\"*10)"
   ]
  },
  {
   "cell_type": "code",
   "execution_count": 36,
   "metadata": {},
   "outputs": [
    {
     "name": "stdout",
     "output_type": "stream",
     "text": [
      "wkwkwkwkwkwkwkwkwkwkwkwkwkwkwk\n"
     ]
    }
   ],
   "source": [
    "print(15*\"wk\")"
   ]
  },
  {
   "cell_type": "markdown",
   "metadata": {},
   "source": [
    "**Indexing**"
   ]
  },
  {
   "cell_type": "code",
   "execution_count": 37,
   "metadata": {},
   "outputs": [
    {
     "name": "stdout",
     "output_type": "stream",
     "text": [
      "index ke-0 : u\n"
     ]
    }
   ],
   "source": [
    "print(\"index ke-0 : \" + nama_lengkap[0])"
   ]
  },
  {
   "cell_type": "code",
   "execution_count": 38,
   "metadata": {},
   "outputs": [
    {
     "name": "stdout",
     "output_type": "stream",
     "text": [
      "index ke-0 : c\n"
     ]
    }
   ],
   "source": [
    "print(\"index ke-0 : \" + nama_lengkap[1])"
   ]
  },
  {
   "cell_type": "code",
   "execution_count": 39,
   "metadata": {},
   "outputs": [
    {
     "name": "stdout",
     "output_type": "stream",
     "text": [
      "index ke-(-1) : e\n"
     ]
    }
   ],
   "source": [
    "print(\"index ke-(-1) : \" + nama_lengkap[-1])"
   ]
  },
  {
   "cell_type": "code",
   "execution_count": 40,
   "metadata": {},
   "outputs": [
    {
     "name": "stdout",
     "output_type": "stream",
     "text": [
      "index ke-(-1) : a\n"
     ]
    }
   ],
   "source": [
    "print(\"index ke-(-1) : \" + nama_lengkap[-3])"
   ]
  },
  {
   "cell_type": "code",
   "execution_count": 41,
   "metadata": {},
   "outputs": [
    {
     "name": "stdout",
     "output_type": "stream",
     "text": [
      "index ke-(0:3) : ucup\n"
     ]
    }
   ],
   "source": [
    "print(\"index ke-(0:3) : \" + nama_lengkap[0:4])"
   ]
  },
  {
   "cell_type": "code",
   "execution_count": 42,
   "metadata": {},
   "outputs": [
    {
     "name": "stdout",
     "output_type": "stream",
     "text": [
      "index ke-(3:7) : p D F\n"
     ]
    }
   ],
   "source": [
    "print(\"index ke-(3:7) : \" + nama_lengkap[3:8])"
   ]
  },
  {
   "cell_type": "code",
   "execution_count": 43,
   "metadata": {},
   "outputs": [
    {
     "name": "stdout",
     "output_type": "stream",
     "text": [
      "index ke-(0,2,4,6,8,10) : uu  a\n"
     ]
    }
   ],
   "source": [
    "print(\"index ke-(0,2,4,6,8,10) : \" + nama_lengkap[0:10:2])"
   ]
  },
  {
   "cell_type": "markdown",
   "metadata": {},
   "source": [
    "**item paling kecil**"
   ]
  },
  {
   "cell_type": "code",
   "execution_count": 44,
   "metadata": {},
   "outputs": [
    {
     "name": "stdout",
     "output_type": "stream",
     "text": [
      "paling kecil :  \n"
     ]
    }
   ],
   "source": [
    "print(\"paling kecil : \" + min(nama_lengkap))"
   ]
  },
  {
   "cell_type": "markdown",
   "metadata": {},
   "source": [
    "**item paling besar**"
   ]
  },
  {
   "cell_type": "code",
   "execution_count": 47,
   "metadata": {},
   "outputs": [
    {
     "name": "stdout",
     "output_type": "stream",
     "text": [
      "paling besar : u\n"
     ]
    }
   ],
   "source": [
    "print(\"paling besar : \" + max(nama_lengkap))"
   ]
  },
  {
   "cell_type": "code",
   "execution_count": 52,
   "metadata": {},
   "outputs": [
    {
     "name": "stdout",
     "output_type": "stream",
     "text": [
      "ASCII code untuk spasi adalah 39\n"
     ]
    }
   ],
   "source": [
    "ascii_code = ord(\"'\")\n",
    "print(\"ASCII code untuk spasi adalah \" + str(ascii_code))"
   ]
  },
  {
   "cell_type": "code",
   "execution_count": 50,
   "metadata": {},
   "outputs": [
    {
     "name": "stdout",
     "output_type": "stream",
     "text": [
      "Char untuk ASCII 117 adalah u\n"
     ]
    }
   ],
   "source": [
    "data = 117\n",
    "print(\"Char untuk ASCII 117 adalah \" + chr(data))"
   ]
  },
  {
   "cell_type": "markdown",
   "metadata": {},
   "source": [
    "## 4. Operator dalam bentuk method"
   ]
  },
  {
   "cell_type": "code",
   "execution_count": 55,
   "metadata": {},
   "outputs": [
    {
     "name": "stdout",
     "output_type": "stream",
     "text": [
      "jumlah o pada test testimoni testimona = 6\n"
     ]
    }
   ],
   "source": [
    "data = \"test testimoni testimona\"\n",
    "jumlah = data.count(\"t\")\n",
    "print(\"jumlah o pada \" + data + \" = \" + str(jumlah ))"
   ]
  },
  {
   "cell_type": "markdown",
   "metadata": {},
   "source": [
    "### a. Merubah String ke Upper and Lower Case"
   ]
  },
  {
   "cell_type": "code",
   "execution_count": 57,
   "metadata": {},
   "outputs": [
    {
     "name": "stdout",
     "output_type": "stream",
     "text": [
      "normal = BRO!\n"
     ]
    }
   ],
   "source": [
    "salam = \"bro!\"\n",
    "salam = salam.upper()\n",
    "print(\"normal = \" + salam)"
   ]
  },
  {
   "cell_type": "code",
   "execution_count": 58,
   "metadata": {},
   "outputs": [
    {
     "name": "stdout",
     "output_type": "stream",
     "text": [
      "normal = bro!\n"
     ]
    }
   ],
   "source": [
    "salam = \"bro!\"\n",
    "salam = salam.lower()\n",
    "print(\"normal = \" + salam)"
   ]
  },
  {
   "cell_type": "markdown",
   "metadata": {},
   "source": [
    "### b. Pengecekkan dengan is Method (Upper and Lower Case)"
   ]
  },
  {
   "cell_type": "code",
   "execution_count": 62,
   "metadata": {},
   "outputs": [
    {
     "name": "stdout",
     "output_type": "stream",
     "text": [
      "sist is lower = True\n"
     ]
    }
   ],
   "source": [
    "salam = \"sist\"\n",
    "apakah_lower = salam.islower()\n",
    "print(salam + \" is lower = \" + str(apakah_lower))"
   ]
  },
  {
   "cell_type": "code",
   "execution_count": 64,
   "metadata": {},
   "outputs": [
    {
     "name": "stdout",
     "output_type": "stream",
     "text": [
      "sist is upper = False\n"
     ]
    }
   ],
   "source": [
    "salam = \"sist\"\n",
    "apakah_upper = salam.isupper()\n",
    "print(salam + \" is upper = \" + str(apakah_upper))"
   ]
  },
  {
   "cell_type": "markdown",
   "metadata": {},
   "source": [
    "### c. Pengecekkan dengan isX "
   ]
  },
  {
   "cell_type": "markdown",
   "metadata": {},
   "source": [
    "**isalpha() <- untuk mengecek semuanya huruf**\n",
    "\n",
    "**isalnum() <- untuk mengecek huruf dan angka**\n",
    "\n",
    "**isdecimal() <- untuk mengecek angka saja**\n",
    "\n",
    "**isspace() <- untuk mengecek spaci, tab, newline**\n",
    "\n",
    "**istitle() <- semua kata dimulai dengan huruf besar**"
   ]
  },
  {
   "cell_type": "code",
   "execution_count": 67,
   "metadata": {},
   "outputs": [
    {
     "name": "stdout",
     "output_type": "stream",
     "text": [
      "It is Okay Not To Be Orkay is title = False\n"
     ]
    }
   ],
   "source": [
    "judul = \"It is Okay Not To Be Orkay\"\n",
    "cek_judul = judul.istitle()\n",
    "print(judul + \" is title = \" + str(cek_judul))"
   ]
  },
  {
   "cell_type": "markdown",
   "metadata": {},
   "source": [
    "### d. Pengecekkan Komponen startswith() , endswith() "
   ]
  },
  {
   "cell_type": "code",
   "execution_count": 68,
   "metadata": {},
   "outputs": [
    {
     "name": "stdout",
     "output_type": "stream",
     "text": [
      "start = True\n"
     ]
    }
   ],
   "source": [
    "cek_start = \"Sangjangnim Oppa\".startswith(\"Sangjangnim\")\n",
    "print(\"start = \" + str(cek_start))"
   ]
  },
  {
   "cell_type": "code",
   "execution_count": 69,
   "metadata": {},
   "outputs": [
    {
     "name": "stdout",
     "output_type": "stream",
     "text": [
      "start = True\n"
     ]
    }
   ],
   "source": [
    "cek_ends = \"Sangjangnim Oppa\".endswith(\"Oppa\")\n",
    "print(\"start = \" + str(cek_ends))"
   ]
  },
  {
   "cell_type": "markdown",
   "metadata": {},
   "source": [
    "### e. Penggabungan Komponen join() dan split()"
   ]
  },
  {
   "cell_type": "code",
   "execution_count": 71,
   "metadata": {},
   "outputs": [
    {
     "name": "stdout",
     "output_type": "stream",
     "text": [
      "aku,adalah,DataScientist\n"
     ]
    }
   ],
   "source": [
    "pisah = ['aku','adalah','DataScientist']\n",
    "gabung = ','.join(pisah)\n",
    "print(gabung)"
   ]
  },
  {
   "cell_type": "code",
   "execution_count": 72,
   "metadata": {},
   "outputs": [
    {
     "name": "stdout",
     "output_type": "stream",
     "text": [
      "aku adalah DataScientist\n"
     ]
    }
   ],
   "source": [
    "gabungan = ' '.join(pisah)\n",
    "print(gabungan)"
   ]
  },
  {
   "cell_type": "code",
   "execution_count": 75,
   "metadata": {},
   "outputs": [
    {
     "name": "stdout",
     "output_type": "stream",
     "text": [
      "['aku', 'adalah', 'DataScientist']\n"
     ]
    }
   ],
   "source": [
    "gabungg = \"akuehmadalahehmDataScientist\"\n",
    "print(gabungg.split('ehm'))"
   ]
  },
  {
   "cell_type": "markdown",
   "metadata": {},
   "source": [
    "### f. Alokasi Karakter rjust(), ljust(), center()"
   ]
  },
  {
   "cell_type": "code",
   "execution_count": 76,
   "metadata": {},
   "outputs": [
    {
     "name": "stdout",
     "output_type": "stream",
     "text": [
      "=====data=====\n"
     ]
    }
   ],
   "source": [
    "print(5*\"=\" + \"data\" + \"=\"*5)"
   ]
  },
  {
   "cell_type": "code",
   "execution_count": 77,
   "metadata": {},
   "outputs": [
    {
     "name": "stdout",
     "output_type": "stream",
     "text": [
      "'     kanan'\n"
     ]
    }
   ],
   "source": [
    "kanan = \"kanan\".rjust(10)\n",
    "print(\"'\"+kanan+\"'\")"
   ]
  },
  {
   "cell_type": "code",
   "execution_count": 78,
   "metadata": {},
   "outputs": [
    {
     "name": "stdout",
     "output_type": "stream",
     "text": [
      "'kiri      '\n"
     ]
    }
   ],
   "source": [
    "kiri = \"kiri\".ljust(10)\n",
    "print(\"'\"+kiri+\"'\")"
   ]
  },
  {
   "cell_type": "code",
   "execution_count": 82,
   "metadata": {},
   "outputs": [
    {
     "name": "stdout",
     "output_type": "stream",
     "text": [
      "':::::::tengah:::::::'\n"
     ]
    }
   ],
   "source": [
    "tengah = \"tengah\".center(20,\":\")\n",
    "print(\"'\"+ tengah +\"'\")"
   ]
  },
  {
   "cell_type": "code",
   "execution_count": null,
   "metadata": {},
   "outputs": [],
   "source": []
  }
 ],
 "metadata": {
  "kernelspec": {
   "display_name": "Python 3",
   "language": "python",
   "name": "python3"
  },
  "language_info": {
   "codemirror_mode": {
    "name": "ipython",
    "version": 3
   },
   "file_extension": ".py",
   "mimetype": "text/x-python",
   "name": "python",
   "nbconvert_exporter": "python",
   "pygments_lexer": "ipython3",
   "version": "3.7.4"
  }
 },
 "nbformat": 4,
 "nbformat_minor": 2
}
