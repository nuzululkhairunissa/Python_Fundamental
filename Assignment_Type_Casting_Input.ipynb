{
 "cells": [
  {
   "cell_type": "markdown",
   "metadata": {},
   "source": [
    "## 04. Menaruh/ Assignment Nilai"
   ]
  },
  {
   "cell_type": "code",
   "execution_count": 1,
   "metadata": {},
   "outputs": [
    {
     "name": "stdout",
     "output_type": "stream",
     "text": [
      "10\n",
      "Nilai a= 10\n",
      "Nilai panjang = 1000\n"
     ]
    }
   ],
   "source": [
    "a = 10\n",
    "x = 5\n",
    "panjang = 1000\n",
    "\n",
    "print(a)\n",
    "print(\"Nilai a=\",a)\n",
    "print(\"Nilai panjang =\",panjang)"
   ]
  },
  {
   "cell_type": "markdown",
   "metadata": {},
   "source": [
    "## 05. Tipe Data"
   ]
  },
  {
   "cell_type": "markdown",
   "metadata": {},
   "source": [
    "**Integer**"
   ]
  },
  {
   "cell_type": "code",
   "execution_count": 2,
   "metadata": {},
   "outputs": [
    {
     "name": "stdout",
     "output_type": "stream",
     "text": [
      "<class 'int'>\n",
      "data :  1 , bertipe :  <class 'int'>\n"
     ]
    }
   ],
   "source": [
    "data_integer = 1\n",
    "print(type(data_integer))\n",
    "print(\"data : \", data_integer, \", bertipe : \", type(data_integer))"
   ]
  },
  {
   "cell_type": "markdown",
   "metadata": {},
   "source": [
    "**Float**"
   ]
  },
  {
   "cell_type": "code",
   "execution_count": 3,
   "metadata": {},
   "outputs": [
    {
     "name": "stdout",
     "output_type": "stream",
     "text": [
      "data :  1.5\n",
      "- bertipe :  <class 'float'>\n"
     ]
    }
   ],
   "source": [
    "data_float = 1.5\n",
    "print(\"data : \", data_float)\n",
    "print(\"- bertipe : \", type(data_float))"
   ]
  },
  {
   "cell_type": "markdown",
   "metadata": {},
   "source": [
    "**String**"
   ]
  },
  {
   "cell_type": "code",
   "execution_count": 4,
   "metadata": {},
   "outputs": [
    {
     "name": "stdout",
     "output_type": "stream",
     "text": [
      "data :  ucup\n",
      "- bertipe :  <class 'str'>\n"
     ]
    }
   ],
   "source": [
    "data_string = \"ucup\"\n",
    "print(\"data : \", data_string)\n",
    "print(\"- bertipe : \", type(data_string))"
   ]
  },
  {
   "cell_type": "markdown",
   "metadata": {},
   "source": [
    "**Biner, True/False, (Boolean)** "
   ]
  },
  {
   "cell_type": "code",
   "execution_count": 5,
   "metadata": {},
   "outputs": [
    {
     "name": "stdout",
     "output_type": "stream",
     "text": [
      "data :  True\n",
      "- bertipe :  <class 'bool'>\n"
     ]
    }
   ],
   "source": [
    "data_bool = True\n",
    "print(\"data : \", data_bool)\n",
    "print(\"- bertipe : \", type(data_bool))"
   ]
  },
  {
   "cell_type": "markdown",
   "metadata": {},
   "source": [
    "**Tipe Data Khusus**"
   ]
  },
  {
   "cell_type": "markdown",
   "metadata": {},
   "source": [
    "**Bilangan Kompleks**"
   ]
  },
  {
   "cell_type": "code",
   "execution_count": 6,
   "metadata": {},
   "outputs": [
    {
     "name": "stdout",
     "output_type": "stream",
     "text": [
      "data :  (5+6j)\n",
      "- bertipe :  <class 'complex'>\n"
     ]
    }
   ],
   "source": [
    "data_complex = complex(5,6)\n",
    "print(\"data : \", data_complex)\n",
    "print(\"- bertipe : \", type(data_complex))"
   ]
  },
  {
   "cell_type": "markdown",
   "metadata": {},
   "source": [
    "## 06. Casting Tipe Data"
   ]
  },
  {
   "cell_type": "markdown",
   "metadata": {},
   "source": [
    "Merubah satu tipe data ke tipe data lain"
   ]
  },
  {
   "cell_type": "code",
   "execution_count": 7,
   "metadata": {},
   "outputs": [
    {
     "name": "stdout",
     "output_type": "stream",
     "text": [
      "data =  9 ,type =  <class 'int'>\n"
     ]
    }
   ],
   "source": [
    "data_int = 9\n",
    "print(\"data = \", data_int, \",type = \",type(data_int))"
   ]
  },
  {
   "cell_type": "code",
   "execution_count": 8,
   "metadata": {},
   "outputs": [
    {
     "name": "stdout",
     "output_type": "stream",
     "text": [
      "data =  9.0 ,type =  <class 'float'>\n",
      "data =  9 ,type =  <class 'str'>\n",
      "data =  True ,type =  <class 'bool'>\n"
     ]
    }
   ],
   "source": [
    "#INT\n",
    "data_float = float(data_int)\n",
    "data_str = str(data_int)\n",
    "data_bool = bool(data_int)\n",
    "print(\"data = \", data_float, \",type = \",type(data_float))\n",
    "print(\"data = \", data_str, \",type = \",type(data_str))\n",
    "print(\"data = \", data_bool, \",type = \",type(data_bool))"
   ]
  },
  {
   "cell_type": "code",
   "execution_count": 9,
   "metadata": {},
   "outputs": [
    {
     "name": "stdout",
     "output_type": "stream",
     "text": [
      "data =  9.9 ,type =  <class 'float'>\n",
      "data =  9 ,type =  <class 'int'>\n",
      "data =  9.9 ,type =  <class 'str'>\n",
      "data =  True ,type =  <class 'bool'>\n"
     ]
    }
   ],
   "source": [
    "#FLOAT\n",
    "\n",
    "data_float = 9.9;\n",
    "print(\"data = \", data_float, \",type = \",type(data_float))\n",
    "\n",
    "data_int = int(data_float)\n",
    "data_str = str(data_float)\n",
    "data_bool = bool(data_float)\n",
    "print(\"data = \", data_int, \",type = \",type(data_int))\n",
    "print(\"data = \", data_str, \",type = \",type(data_str))\n",
    "print(\"data = \", data_bool, \",type = \",type(data_bool))"
   ]
  },
  {
   "cell_type": "code",
   "execution_count": 10,
   "metadata": {},
   "outputs": [
    {
     "name": "stdout",
     "output_type": "stream",
     "text": [
      "data =  False ,type =  <class 'bool'>\n",
      "data =  0 ,type =  <class 'int'>\n",
      "data =  False ,type =  <class 'str'>\n",
      "data =  0.0 ,type =  <class 'float'>\n"
     ]
    }
   ],
   "source": [
    "#BOOLEAN\n",
    "\n",
    "data_bool = False;\n",
    "print(\"data = \", data_bool, \",type = \",type(data_bool))\n",
    "\n",
    "data_int = int(data_bool)\n",
    "data_str = str(data_bool)\n",
    "data_float = float(data_bool)\n",
    "print(\"data = \", data_int, \",type = \",type(data_int))\n",
    "print(\"data = \", data_str, \",type = \",type(data_str))\n",
    "print(\"data = \", data_float, \",type = \",type(data_float))"
   ]
  },
  {
   "cell_type": "code",
   "execution_count": 11,
   "metadata": {},
   "outputs": [
    {
     "name": "stdout",
     "output_type": "stream",
     "text": [
      "data =  ucup ,type =  <class 'str'>\n"
     ]
    },
    {
     "ename": "ValueError",
     "evalue": "invalid literal for int() with base 10: 'ucup'",
     "output_type": "error",
     "traceback": [
      "\u001b[1;31m---------------------------------------------------------------------------\u001b[0m",
      "\u001b[1;31mValueError\u001b[0m                                Traceback (most recent call last)",
      "\u001b[1;32m<ipython-input-11-38c810b86989>\u001b[0m in \u001b[0;36m<module>\u001b[1;34m\u001b[0m\n\u001b[0;32m      4\u001b[0m \u001b[0mprint\u001b[0m\u001b[1;33m(\u001b[0m\u001b[1;34m\"data = \"\u001b[0m\u001b[1;33m,\u001b[0m \u001b[0mdata_str\u001b[0m\u001b[1;33m,\u001b[0m \u001b[1;34m\",type = \"\u001b[0m\u001b[1;33m,\u001b[0m\u001b[0mtype\u001b[0m\u001b[1;33m(\u001b[0m\u001b[0mdata_str\u001b[0m\u001b[1;33m)\u001b[0m\u001b[1;33m)\u001b[0m\u001b[1;33m\u001b[0m\u001b[1;33m\u001b[0m\u001b[0m\n\u001b[0;32m      5\u001b[0m \u001b[1;33m\u001b[0m\u001b[0m\n\u001b[1;32m----> 6\u001b[1;33m \u001b[0mdata_int\u001b[0m \u001b[1;33m=\u001b[0m \u001b[0mint\u001b[0m\u001b[1;33m(\u001b[0m\u001b[0mdata_str\u001b[0m\u001b[1;33m)\u001b[0m\u001b[1;33m\u001b[0m\u001b[1;33m\u001b[0m\u001b[0m\n\u001b[0m\u001b[0;32m      7\u001b[0m \u001b[0mdata_bool\u001b[0m \u001b[1;33m=\u001b[0m \u001b[0mbool\u001b[0m\u001b[1;33m(\u001b[0m\u001b[0mdata_str\u001b[0m\u001b[1;33m)\u001b[0m\u001b[1;33m\u001b[0m\u001b[1;33m\u001b[0m\u001b[0m\n\u001b[0;32m      8\u001b[0m \u001b[0mdata_float\u001b[0m \u001b[1;33m=\u001b[0m \u001b[0mfloat\u001b[0m\u001b[1;33m(\u001b[0m\u001b[0mdata_str\u001b[0m\u001b[1;33m)\u001b[0m\u001b[1;33m\u001b[0m\u001b[1;33m\u001b[0m\u001b[0m\n",
      "\u001b[1;31mValueError\u001b[0m: invalid literal for int() with base 10: 'ucup'"
     ]
    }
   ],
   "source": [
    "#STRING\n",
    "\n",
    "data_str = \"ucup\";\n",
    "print(\"data = \", data_str, \",type = \",type(data_str))\n",
    "\n",
    "data_int = int(data_str)\n",
    "data_bool = bool(data_str)\n",
    "data_float = float(data_str)\n",
    "print(\"data = \", data_int, \",type = \",type(data_int))\n",
    "print(\"data = \", data_bool, \",type = \",type(data_bool))\n",
    "print(\"data = \", data_float, \",type = \",type(data_float))"
   ]
  },
  {
   "cell_type": "markdown",
   "metadata": {},
   "source": [
    "## 07. Mengambil Input Data dari User"
   ]
  },
  {
   "cell_type": "code",
   "execution_count": 12,
   "metadata": {},
   "outputs": [
    {
     "name": "stdout",
     "output_type": "stream",
     "text": [
      "Masukan data: ER\n",
      "data =  ER ,type = <class 'str'>\n"
     ]
    }
   ],
   "source": [
    "#Data yang dimasukkan pasti String\n",
    "data = input(\"Masukan data: \")\n",
    "print(\"data = \", data,\",type =\", type(data))"
   ]
  },
  {
   "cell_type": "code",
   "execution_count": 13,
   "metadata": {},
   "outputs": [
    {
     "name": "stdout",
     "output_type": "stream",
     "text": [
      "Masukan angka: 2\n",
      "data =  2 ,type = <class 'int'>\n"
     ]
    }
   ],
   "source": [
    "#Jika ingin mengambil int, maka\n",
    "angka = int(input(\"Masukan angka: \"))\n",
    "print(\"data = \", angka,\",type =\", type(angka))"
   ]
  },
  {
   "cell_type": "code",
   "execution_count": 15,
   "metadata": {},
   "outputs": [
    {
     "name": "stdout",
     "output_type": "stream",
     "text": [
      "Masukan nilai boolean: 1\n",
      "data =  True ,type = <class 'bool'>\n"
     ]
    }
   ],
   "source": [
    "# Boolean\n",
    "data_boolean = bool(int(input(\"Masukan nilai boolean: \")))\n",
    "print(\"data = \", data_boolean,\",type =\", type(data_boolean))"
   ]
  },
  {
   "cell_type": "code",
   "execution_count": null,
   "metadata": {},
   "outputs": [],
   "source": []
  }
 ],
 "metadata": {
  "kernelspec": {
   "display_name": "Python 3",
   "language": "python",
   "name": "python3"
  },
  "language_info": {
   "codemirror_mode": {
    "name": "ipython",
    "version": 3
   },
   "file_extension": ".py",
   "mimetype": "text/x-python",
   "name": "python",
   "nbconvert_exporter": "python",
   "pygments_lexer": "ipython3",
   "version": "3.7.4"
  }
 },
 "nbformat": 4,
 "nbformat_minor": 2
}
