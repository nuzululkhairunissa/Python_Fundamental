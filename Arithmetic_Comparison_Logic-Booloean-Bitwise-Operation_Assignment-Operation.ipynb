{
 "cells": [
  {
   "cell_type": "markdown",
   "metadata": {},
   "source": [
    "## 08. Operasi Aritmatika"
   ]
  },
  {
   "cell_type": "code",
   "execution_count": 1,
   "metadata": {},
   "outputs": [
    {
     "name": "stdout",
     "output_type": "stream",
     "text": [
      "10 + 3 = 13\n"
     ]
    }
   ],
   "source": [
    "a = 10\n",
    "b = 3\n",
    "\n",
    "#Operasi Penjumlahan\n",
    "hasil = a + b\n",
    "print(a, '+' ,b, '=',hasil)"
   ]
  },
  {
   "cell_type": "code",
   "execution_count": 2,
   "metadata": {},
   "outputs": [
    {
     "name": "stdout",
     "output_type": "stream",
     "text": [
      "10 - 3 = 7\n"
     ]
    }
   ],
   "source": [
    "#Operasi Pengurangan\n",
    "hasil = a - b\n",
    "print(a, '-' ,b, '=',hasil)"
   ]
  },
  {
   "cell_type": "code",
   "execution_count": 3,
   "metadata": {},
   "outputs": [
    {
     "name": "stdout",
     "output_type": "stream",
     "text": [
      "10 * 3 = 30\n"
     ]
    }
   ],
   "source": [
    "#Operasi Perkalian\n",
    "hasil = a * b\n",
    "print(a, '*' ,b, '=',hasil)"
   ]
  },
  {
   "cell_type": "code",
   "execution_count": 4,
   "metadata": {},
   "outputs": [
    {
     "name": "stdout",
     "output_type": "stream",
     "text": [
      "10 : 3 = 3.3333333333333335\n"
     ]
    }
   ],
   "source": [
    "#Operasi Pembagian\n",
    "hasil = a / b\n",
    "print(a, ':' ,b, '=',hasil)"
   ]
  },
  {
   "cell_type": "code",
   "execution_count": 5,
   "metadata": {},
   "outputs": [
    {
     "name": "stdout",
     "output_type": "stream",
     "text": [
      "10 ^ 3 = 1000\n"
     ]
    }
   ],
   "source": [
    "#Operasi Eksponen(Pangkat)\n",
    "hasil = a ** b\n",
    "print(a, '^' ,b, '=',hasil)"
   ]
  },
  {
   "cell_type": "code",
   "execution_count": 6,
   "metadata": {},
   "outputs": [
    {
     "name": "stdout",
     "output_type": "stream",
     "text": [
      "10 % 3 = 1\n"
     ]
    }
   ],
   "source": [
    "#Operasi Modulus : sisa pembagian\n",
    "hasil = a % b\n",
    "print(a, '%' ,b, '=',hasil)"
   ]
  },
  {
   "cell_type": "code",
   "execution_count": 7,
   "metadata": {},
   "outputs": [
    {
     "name": "stdout",
     "output_type": "stream",
     "text": [
      "10 // 3 = 3\n"
     ]
    }
   ],
   "source": [
    "#Operasi floor division \n",
    "hasil = a // b\n",
    "print(a, '//' ,b, '=',hasil)"
   ]
  },
  {
   "cell_type": "markdown",
   "metadata": {},
   "source": [
    "**Prioritas Operasi**"
   ]
  },
  {
   "cell_type": "code",
   "execution_count": 8,
   "metadata": {},
   "outputs": [],
   "source": [
    "x = 3\n",
    "y = 2\n",
    "z = 4"
   ]
  },
  {
   "cell_type": "code",
   "execution_count": 10,
   "metadata": {},
   "outputs": [
    {
     "name": "stdout",
     "output_type": "stream",
     "text": [
      "37.5\n"
     ]
    }
   ],
   "source": [
    "hasil = x ** y * z + x / y - y % z // x\n",
    "print(hasil)"
   ]
  },
  {
   "cell_type": "markdown",
   "metadata": {},
   "source": [
    "**Catatan**: urutan prioritas operasi\n",
    "1. ()\n",
    "2. Eksponen\n",
    "3. Perkalian (Modulus, floor division)\n",
    "4. Penjumlahan dan pengurangan"
   ]
  },
  {
   "cell_type": "markdown",
   "metadata": {},
   "source": [
    "## 10. Operasi Komparasi"
   ]
  },
  {
   "cell_type": "markdown",
   "metadata": {},
   "source": [
    "**Setiap hasil dari operasi komparasi adalah boolean**"
   ]
  },
  {
   "cell_type": "markdown",
   "metadata": {},
   "source": [
    "# >,<,>=,<=,==,!=,is, is not"
   ]
  },
  {
   "cell_type": "markdown",
   "metadata": {},
   "source": [
    "### Lebih besar dari: "
   ]
  },
  {
   "cell_type": "code",
   "execution_count": 1,
   "metadata": {},
   "outputs": [
    {
     "name": "stdout",
     "output_type": "stream",
     "text": [
      "4 > 3 = True\n"
     ]
    }
   ],
   "source": [
    "a = 4\n",
    "b = 2\n",
    "\n",
    "hasil = a > 3\n",
    "print(a,'>',3,'=',hasil)"
   ]
  },
  {
   "cell_type": "code",
   "execution_count": 2,
   "metadata": {},
   "outputs": [
    {
     "name": "stdout",
     "output_type": "stream",
     "text": [
      "2 > 3 = False\n"
     ]
    }
   ],
   "source": [
    "hasil = b > 3\n",
    "print(b,'>',3,'=',hasil)"
   ]
  },
  {
   "cell_type": "code",
   "execution_count": 3,
   "metadata": {},
   "outputs": [
    {
     "name": "stdout",
     "output_type": "stream",
     "text": [
      "2 > 2 = False\n"
     ]
    }
   ],
   "source": [
    "hasil = b > 2\n",
    "print(b,'>',2,'=',hasil)"
   ]
  },
  {
   "cell_type": "markdown",
   "metadata": {},
   "source": [
    "### Kurang dari: "
   ]
  },
  {
   "cell_type": "code",
   "execution_count": 4,
   "metadata": {},
   "outputs": [
    {
     "name": "stdout",
     "output_type": "stream",
     "text": [
      "4 < 3 = False\n"
     ]
    }
   ],
   "source": [
    "hasil = a < 3\n",
    "print(a,'<',3,'=',hasil)"
   ]
  },
  {
   "cell_type": "code",
   "execution_count": 5,
   "metadata": {},
   "outputs": [
    {
     "name": "stdout",
     "output_type": "stream",
     "text": [
      "2 < 3 = True\n"
     ]
    }
   ],
   "source": [
    "hasil = b < 3\n",
    "print(b,'<',3,'=',hasil)"
   ]
  },
  {
   "cell_type": "markdown",
   "metadata": {},
   "source": [
    "### Lebih besar dari sama dengan: "
   ]
  },
  {
   "cell_type": "code",
   "execution_count": 6,
   "metadata": {},
   "outputs": [
    {
     "name": "stdout",
     "output_type": "stream",
     "text": [
      "4 >= 3 = True\n"
     ]
    }
   ],
   "source": [
    "hasil = a >= 3\n",
    "print(a,'>=',3,'=',hasil)"
   ]
  },
  {
   "cell_type": "code",
   "execution_count": 7,
   "metadata": {},
   "outputs": [
    {
     "name": "stdout",
     "output_type": "stream",
     "text": [
      "2 >= 2 = True\n"
     ]
    }
   ],
   "source": [
    "hasil = b >= 2\n",
    "print(b,'>=',2,'=',hasil)"
   ]
  },
  {
   "cell_type": "markdown",
   "metadata": {},
   "source": [
    "### Kurang dari sama dengan:"
   ]
  },
  {
   "cell_type": "code",
   "execution_count": 8,
   "metadata": {},
   "outputs": [
    {
     "name": "stdout",
     "output_type": "stream",
     "text": [
      "4 <= 3 = False\n"
     ]
    }
   ],
   "source": [
    "hasil = a <= 3\n",
    "print(a,'<=',3,'=',hasil)"
   ]
  },
  {
   "cell_type": "code",
   "execution_count": 9,
   "metadata": {},
   "outputs": [
    {
     "name": "stdout",
     "output_type": "stream",
     "text": [
      "2 <= 2 = True\n"
     ]
    }
   ],
   "source": [
    "hasil = b <= 2\n",
    "print(b,'<=',2,'=',hasil)"
   ]
  },
  {
   "cell_type": "markdown",
   "metadata": {},
   "source": [
    "### Sama dengan (==) :"
   ]
  },
  {
   "cell_type": "code",
   "execution_count": 10,
   "metadata": {},
   "outputs": [
    {
     "name": "stdout",
     "output_type": "stream",
     "text": [
      "4 == 4 = True\n"
     ]
    }
   ],
   "source": [
    "hasil = a == 4\n",
    "print(a,'==',4,'=',hasil)"
   ]
  },
  {
   "cell_type": "code",
   "execution_count": 13,
   "metadata": {},
   "outputs": [
    {
     "name": "stdout",
     "output_type": "stream",
     "text": [
      "2 == 4 = False\n"
     ]
    }
   ],
   "source": [
    "hasil = b == 4\n",
    "print(b,'==',4,'=',hasil)"
   ]
  },
  {
   "cell_type": "markdown",
   "metadata": {},
   "source": [
    "### Tidak sama dengan (!=) :"
   ]
  },
  {
   "cell_type": "code",
   "execution_count": 14,
   "metadata": {},
   "outputs": [
    {
     "name": "stdout",
     "output_type": "stream",
     "text": [
      "4 != 4 = False\n"
     ]
    }
   ],
   "source": [
    "hasil = a != 4\n",
    "print(a,'!=',4,'=',hasil)"
   ]
  },
  {
   "cell_type": "code",
   "execution_count": 15,
   "metadata": {},
   "outputs": [
    {
     "name": "stdout",
     "output_type": "stream",
     "text": [
      "2 != 4 = True\n"
     ]
    }
   ],
   "source": [
    "hasil = b != 4\n",
    "print(b,'!=',4,'=',hasil)"
   ]
  },
  {
   "cell_type": "markdown",
   "metadata": {},
   "source": [
    "## Is membandingkan dua object atau variable (yang tersimpan di memory)"
   ]
  },
  {
   "cell_type": "code",
   "execution_count": 16,
   "metadata": {},
   "outputs": [
    {
     "name": "stdout",
     "output_type": "stream",
     "text": [
      "nilai x =, 5 id =  0x7ffd0bc4a210\n",
      "nilai y =, 5 id =  0x7ffd0bc4a210\n"
     ]
    }
   ],
   "source": [
    "x = 5\n",
    "y = 5\n",
    "print('nilai x =,',x,'id = ', hex(id(x)))\n",
    "print('nilai y =,',x,'id = ', hex(id(y)))"
   ]
  },
  {
   "cell_type": "code",
   "execution_count": 17,
   "metadata": {},
   "outputs": [
    {
     "name": "stdout",
     "output_type": "stream",
     "text": [
      "x is 5 = True\n"
     ]
    }
   ],
   "source": [
    "hasil = x is y\n",
    "print('x is 5 =', hasil)"
   ]
  },
  {
   "cell_type": "code",
   "execution_count": 20,
   "metadata": {},
   "outputs": [
    {
     "name": "stdout",
     "output_type": "stream",
     "text": [
      "nilai x =, 5 id =  0x7ffd0bc4a210\n",
      "nilai y =, 6 id =  0x7ffd0bc4a230\n",
      "x is y = False\n"
     ]
    }
   ],
   "source": [
    "x = 5\n",
    "y = 6\n",
    "print('nilai x =,',x,'id = ', hex(id(x)))\n",
    "print('nilai y =,',y,'id = ', hex(id(y)))\n",
    "\n",
    "hasil = x is y\n",
    "print('x is y =', hasil)"
   ]
  },
  {
   "cell_type": "code",
   "execution_count": 21,
   "metadata": {},
   "outputs": [
    {
     "name": "stdout",
     "output_type": "stream",
     "text": [
      "nilai x =, 5 id =  0x7ffd0bc4a210\n",
      "nilai y =, 6 id =  0x7ffd0bc4a230\n",
      "x is not y = True\n"
     ]
    }
   ],
   "source": [
    "x = 5\n",
    "y = 6\n",
    "print('nilai x =,',x,'id = ', hex(id(x)))\n",
    "print('nilai y =,',y,'id = ', hex(id(y)))\n",
    "\n",
    "hasil = x is not y\n",
    "print('x is not y =', hasil)"
   ]
  },
  {
   "cell_type": "markdown",
   "metadata": {},
   "source": [
    "## 11. Operasi Logika dan Boolean"
   ]
  },
  {
   "cell_type": "markdown",
   "metadata": {},
   "source": [
    "# NOT , OR , AND, XOR"
   ]
  },
  {
   "cell_type": "markdown",
   "metadata": {},
   "source": [
    "## NOT"
   ]
  },
  {
   "cell_type": "code",
   "execution_count": 25,
   "metadata": {},
   "outputs": [
    {
     "name": "stdout",
     "output_type": "stream",
     "text": [
      "data a = False\n",
      "------- NOT\n"
     ]
    }
   ],
   "source": [
    "a = True\n",
    "c = not a\n",
    "print('data a =',c)\n",
    "print('------- NOT')"
   ]
  },
  {
   "cell_type": "code",
   "execution_count": 26,
   "metadata": {},
   "outputs": [
    {
     "name": "stdout",
     "output_type": "stream",
     "text": [
      "data a = True\n",
      "------- NOT\n"
     ]
    }
   ],
   "source": [
    "a = False\n",
    "c = not a\n",
    "print('data a =',c)\n",
    "print('------- NOT')"
   ]
  },
  {
   "cell_type": "markdown",
   "metadata": {},
   "source": [
    "## OR"
   ]
  },
  {
   "cell_type": "code",
   "execution_count": 27,
   "metadata": {},
   "outputs": [
    {
     "name": "stdout",
     "output_type": "stream",
     "text": [
      "False OR False = False\n"
     ]
    }
   ],
   "source": [
    "a = False\n",
    "b = False\n",
    "c = a or b\n",
    "print(a,'OR',b,'=',c)"
   ]
  },
  {
   "cell_type": "code",
   "execution_count": 29,
   "metadata": {},
   "outputs": [
    {
     "name": "stdout",
     "output_type": "stream",
     "text": [
      "False OR True = True\n"
     ]
    }
   ],
   "source": [
    "a = False\n",
    "b = True\n",
    "c = a or b\n",
    "print(a,'OR',b,'=',c)"
   ]
  },
  {
   "cell_type": "code",
   "execution_count": 30,
   "metadata": {},
   "outputs": [
    {
     "name": "stdout",
     "output_type": "stream",
     "text": [
      "True OR False = True\n"
     ]
    }
   ],
   "source": [
    "a = True\n",
    "b = False\n",
    "c = a or b\n",
    "print(a,'OR',b,'=',c)"
   ]
  },
  {
   "cell_type": "code",
   "execution_count": 31,
   "metadata": {},
   "outputs": [
    {
     "name": "stdout",
     "output_type": "stream",
     "text": [
      "True OR True = True\n"
     ]
    }
   ],
   "source": [
    "a = True\n",
    "b = True\n",
    "c = a or b\n",
    "print(a,'OR',b,'=',c)"
   ]
  },
  {
   "cell_type": "markdown",
   "metadata": {},
   "source": [
    "## AND"
   ]
  },
  {
   "cell_type": "code",
   "execution_count": 35,
   "metadata": {},
   "outputs": [
    {
     "name": "stdout",
     "output_type": "stream",
     "text": [
      "False and False = False\n"
     ]
    }
   ],
   "source": [
    "a = False\n",
    "b = False\n",
    "c = a and b\n",
    "print(a,'and',b,'=',c)"
   ]
  },
  {
   "cell_type": "code",
   "execution_count": 36,
   "metadata": {},
   "outputs": [
    {
     "name": "stdout",
     "output_type": "stream",
     "text": [
      "False and True = False\n"
     ]
    }
   ],
   "source": [
    "a = False\n",
    "b = True\n",
    "c = a and b\n",
    "print(a,'and',b,'=',c)"
   ]
  },
  {
   "cell_type": "code",
   "execution_count": 39,
   "metadata": {},
   "outputs": [
    {
     "name": "stdout",
     "output_type": "stream",
     "text": [
      "True and False = False\n"
     ]
    }
   ],
   "source": [
    "a = True\n",
    "b = False\n",
    "c = a and b\n",
    "print(a,'and',b,'=',c)"
   ]
  },
  {
   "cell_type": "code",
   "execution_count": 40,
   "metadata": {},
   "outputs": [
    {
     "name": "stdout",
     "output_type": "stream",
     "text": [
      "True and True = True\n"
     ]
    }
   ],
   "source": [
    "a = True\n",
    "b = True\n",
    "c = a and b\n",
    "print(a,'and',b,'=',c)"
   ]
  },
  {
   "cell_type": "markdown",
   "metadata": {},
   "source": [
    "## XOR"
   ]
  },
  {
   "cell_type": "code",
   "execution_count": 41,
   "metadata": {},
   "outputs": [
    {
     "name": "stdout",
     "output_type": "stream",
     "text": [
      "False XOR False = False\n"
     ]
    }
   ],
   "source": [
    "a = False\n",
    "b = False\n",
    "c = a ^ b\n",
    "print(a,'XOR',b,'=',c)"
   ]
  },
  {
   "cell_type": "code",
   "execution_count": 42,
   "metadata": {},
   "outputs": [
    {
     "name": "stdout",
     "output_type": "stream",
     "text": [
      "False XOR True = True\n"
     ]
    }
   ],
   "source": [
    "a = False\n",
    "b = True\n",
    "c = a ^ b\n",
    "print(a,'XOR',b,'=',c)"
   ]
  },
  {
   "cell_type": "code",
   "execution_count": 43,
   "metadata": {},
   "outputs": [
    {
     "name": "stdout",
     "output_type": "stream",
     "text": [
      "True XOR False = True\n"
     ]
    }
   ],
   "source": [
    "a = True\n",
    "b = False\n",
    "c = a ^ b\n",
    "print(a,'XOR',b,'=',c)"
   ]
  },
  {
   "cell_type": "code",
   "execution_count": 44,
   "metadata": {},
   "outputs": [
    {
     "name": "stdout",
     "output_type": "stream",
     "text": [
      "True XOR True = False\n"
     ]
    }
   ],
   "source": [
    "a = True\n",
    "b = True\n",
    "c = a ^ b\n",
    "print(a,'XOR',b,'=',c)"
   ]
  },
  {
   "cell_type": "markdown",
   "metadata": {},
   "source": [
    "## 13. Operator Bitwise"
   ]
  },
  {
   "cell_type": "markdown",
   "metadata": {},
   "source": [
    "Bitwise : Operasi masing-masing bit"
   ]
  },
  {
   "cell_type": "code",
   "execution_count": 14,
   "metadata": {},
   "outputs": [
    {
     "name": "stdout",
     "output_type": "stream",
     "text": [
      "\n",
      "========0R========\n",
      "nilai : 9  , binary: 00001001\n",
      "nilai : 5  , binary: 00000101\n",
      "----------------------(|)\n",
      "nilai : 13  , binary: 00001101\n"
     ]
    }
   ],
   "source": [
    "a = 9\n",
    "b = 5\n",
    "\n",
    "# bitwise OR (|)\n",
    "c = a | b\n",
    "print('\\n========0R========')\n",
    "print('nilai :',a,' , binary:',format(a,'08b'))\n",
    "print('nilai :',b,' , binary:',format(b,'08b'))\n",
    "print('----------------------(|)')\n",
    "print('nilai :',c,' , binary:',format(c,'08b'))"
   ]
  },
  {
   "cell_type": "code",
   "execution_count": 15,
   "metadata": {},
   "outputs": [
    {
     "name": "stdout",
     "output_type": "stream",
     "text": [
      "\n",
      "========AND========\n",
      "nilai : 9  , binary: 00001001\n",
      "nilai : 5  , binary: 00000101\n",
      "----------------------(&)\n",
      "nilai : 1  , binary: 00000001\n"
     ]
    }
   ],
   "source": [
    "# bitwise AND (&)\n",
    "c = a & b\n",
    "print('\\n========AND========')\n",
    "print('nilai :',a,' , binary:',format(a,'08b'))\n",
    "print('nilai :',b,' , binary:',format(b,'08b'))\n",
    "print('----------------------(&)')\n",
    "print('nilai :',c,' , binary:',format(c,'08b'))"
   ]
  },
  {
   "cell_type": "code",
   "execution_count": 16,
   "metadata": {},
   "outputs": [
    {
     "name": "stdout",
     "output_type": "stream",
     "text": [
      "\n",
      "========X0R========\n",
      "nilai : 9  , binary: 00001001\n",
      "nilai : 5  , binary: 00000101\n",
      "----------------------(^)\n",
      "nilai : 12  ,binary: 00001100\n"
     ]
    }
   ],
   "source": [
    "# bitwise XOR (^)\n",
    "c = a ^ b\n",
    "print('\\n========X0R========')\n",
    "print('nilai :',a,' , binary:',format(a,'08b'))\n",
    "print('nilai :',b,' , binary:',format(b,'08b'))\n",
    "print('----------------------(^)')\n",
    "print('nilai :',c,' ,binary:',format(c,'08b'))"
   ]
  },
  {
   "cell_type": "code",
   "execution_count": 17,
   "metadata": {},
   "outputs": [
    {
     "name": "stdout",
     "output_type": "stream",
     "text": [
      "\n",
      "========NOT========\n",
      "nilai :   9  , binary: 00001001\n",
      "----------------------(~)\n",
      "nilai : -10 ,  binary: -0001010\n"
     ]
    }
   ],
   "source": [
    "# bitwise NOT (~)\n",
    "c = ~a\n",
    "print('\\n========NOT========')\n",
    "print('nilai :  ', a,' , binary:',format(a,'08b'))\n",
    "print('----------------------(~)')\n",
    "print('nilai :',c,',  binary:',format(c,'08b'))"
   ]
  },
  {
   "cell_type": "code",
   "execution_count": 22,
   "metadata": {},
   "outputs": [
    {
     "name": "stdout",
     "output_type": "stream",
     "text": [
      "\n",
      "===========>>==========\n",
      "nilai :   9  , binary: 00001001\n",
      "-------------------------------(>>)\n",
      "nilai :   4 ,  binary: 00000100\n"
     ]
    }
   ],
   "source": [
    "# shifting\n",
    "\n",
    "# shift right (>>)\n",
    "c = a >> 1\n",
    "print('\\n===========>>==========')\n",
    "print('nilai :  ', a,' , binary:',format(a,'08b'))\n",
    "print('-------------------------------(>>)')\n",
    "print('nilai :  ', c,',  binary:',format(c,'08b'))"
   ]
  },
  {
   "cell_type": "code",
   "execution_count": 25,
   "metadata": {},
   "outputs": [
    {
     "name": "stdout",
     "output_type": "stream",
     "text": [
      "\n",
      "===========>>==========\n",
      "nilai :   9  , binary: 00001001\n",
      "-------------------------------(<<)\n",
      "nilai :  18 ,  binary: 00010010\n"
     ]
    }
   ],
   "source": [
    "# shift left (<<)\n",
    "c = a << 1\n",
    "print('\\n===========>>==========')\n",
    "print('nilai :  ', a,' , binary:',format(a,'08b'))\n",
    "print('-------------------------------(<<)')\n",
    "print('nilai : ', c,',  binary:',format(c,'08b'))"
   ]
  },
  {
   "cell_type": "markdown",
   "metadata": {},
   "source": [
    "## 14. Operator Assignment"
   ]
  },
  {
   "cell_type": "markdown",
   "metadata": {},
   "source": [
    "Operasi yang dapat dilakukan dengan penyingkatan"
   ]
  },
  {
   "cell_type": "markdown",
   "metadata": {},
   "source": [
    "Operasi ditambah dengan assignment"
   ]
  },
  {
   "cell_type": "markdown",
   "metadata": {},
   "source": [
    "a = 5 -> ini adalah assignment"
   ]
  },
  {
   "cell_type": "code",
   "execution_count": 12,
   "metadata": {},
   "outputs": [
    {
     "name": "stdout",
     "output_type": "stream",
     "text": [
      "nilai a = 5\n"
     ]
    }
   ],
   "source": [
    "a = 5\n",
    "print(\"nilai a =\", a)"
   ]
  },
  {
   "cell_type": "code",
   "execution_count": 6,
   "metadata": {},
   "outputs": [
    {
     "name": "stdout",
     "output_type": "stream",
     "text": [
      "nilai a = 6\n"
     ]
    }
   ],
   "source": [
    "a = a + 1\n",
    "print(\"nilai a =\", a)"
   ]
  },
  {
   "cell_type": "markdown",
   "metadata": {},
   "source": [
    "a += 1 -> artinya adalah a = a + 1"
   ]
  },
  {
   "cell_type": "code",
   "execution_count": 7,
   "metadata": {},
   "outputs": [
    {
     "name": "stdout",
     "output_type": "stream",
     "text": [
      "nilai a = 7\n"
     ]
    }
   ],
   "source": [
    "a += 1\n",
    "print(\"nilai a =\",a)"
   ]
  },
  {
   "cell_type": "code",
   "execution_count": 8,
   "metadata": {},
   "outputs": [
    {
     "name": "stdout",
     "output_type": "stream",
     "text": [
      "nilai a -= 1, nilai a menjadi 5\n"
     ]
    }
   ],
   "source": [
    "a -= 2\n",
    "print(\"nilai a -= 1, nilai a menjadi\",a)"
   ]
  },
  {
   "cell_type": "code",
   "execution_count": 10,
   "metadata": {},
   "outputs": [
    {
     "name": "stdout",
     "output_type": "stream",
     "text": [
      "nilai a *= 5, nilai a menjadi 25\n"
     ]
    }
   ],
   "source": [
    "a *= 5\n",
    "print(\"nilai a *= 5, nilai a menjadi\",a)"
   ]
  },
  {
   "cell_type": "code",
   "execution_count": 13,
   "metadata": {},
   "outputs": [
    {
     "name": "stdout",
     "output_type": "stream",
     "text": [
      "nilai a /= 5, nilai a menjadi 1.0\n"
     ]
    }
   ],
   "source": [
    "a /= 5\n",
    "print(\"nilai a /= 5, nilai a menjadi\",a)"
   ]
  },
  {
   "cell_type": "code",
   "execution_count": 23,
   "metadata": {},
   "outputs": [
    {
     "name": "stdout",
     "output_type": "stream",
     "text": [
      "\n",
      "nilai b = 10\n"
     ]
    }
   ],
   "source": [
    "b = 10\n",
    "print(\"\\nnilai b =\",b)"
   ]
  },
  {
   "cell_type": "code",
   "execution_count": 24,
   "metadata": {},
   "outputs": [
    {
     "name": "stdout",
     "output_type": "stream",
     "text": [
      "nilai b %= 3, nilai b menjadi 1\n"
     ]
    }
   ],
   "source": [
    "# Modulus \n",
    "b %= 3\n",
    "print(\"nilai b %= 3, nilai b menjadi\",b)"
   ]
  },
  {
   "cell_type": "code",
   "execution_count": 16,
   "metadata": {},
   "outputs": [
    {
     "name": "stdout",
     "output_type": "stream",
     "text": [
      "nilai b /= 3, nilai b menjadi 0.3333333333333333\n"
     ]
    }
   ],
   "source": [
    "b /= 3\n",
    "print(\"nilai b /= 3, nilai b menjadi\",b)"
   ]
  },
  {
   "cell_type": "code",
   "execution_count": 19,
   "metadata": {},
   "outputs": [
    {
     "name": "stdout",
     "output_type": "stream",
     "text": [
      "nilai b //= 3, nilai b menjadi 3\n"
     ]
    }
   ],
   "source": [
    "# Floor division\n",
    "b //= 3\n",
    "print(\"nilai b //= 3, nilai b menjadi\",b)"
   ]
  },
  {
   "cell_type": "code",
   "execution_count": 20,
   "metadata": {},
   "outputs": [
    {
     "name": "stdout",
     "output_type": "stream",
     "text": [
      "nilai a = 5\n",
      "nilai a **=3, bilai a menjadi 125\n"
     ]
    }
   ],
   "source": [
    "# Eksponen\n",
    "a = 5\n",
    "print(\"nilai a =\",a)\n",
    "a **= 3\n",
    "print(\"nilai a **=3, bilai a menjadi\",a)"
   ]
  },
  {
   "cell_type": "markdown",
   "metadata": {},
   "source": [
    "**Operasi Bitwise**"
   ]
  },
  {
   "cell_type": "code",
   "execution_count": 21,
   "metadata": {},
   "outputs": [
    {
     "name": "stdout",
     "output_type": "stream",
     "text": [
      "\n",
      "nilai c= True\n",
      "nilai c |= False, nilai c menjadi True\n"
     ]
    }
   ],
   "source": [
    "# OR\n",
    "c = True\n",
    "print(\"\\nnilai c=\",c)\n",
    "c |= False\n",
    "print(\"nilai c |= False, nilai c menjadi\",c)"
   ]
  },
  {
   "cell_type": "code",
   "execution_count": 30,
   "metadata": {},
   "outputs": [
    {
     "name": "stdout",
     "output_type": "stream",
     "text": [
      "nilai c= True\n",
      "nilai c |= False, nilai c menjadi False\n"
     ]
    }
   ],
   "source": [
    "# AND\n",
    "c = True\n",
    "print(\"nilai c=\",c)\n",
    "c &= False\n",
    "print(\"nilai c |= False, nilai c menjadi\",c)"
   ]
  },
  {
   "cell_type": "code",
   "execution_count": 31,
   "metadata": {},
   "outputs": [
    {
     "name": "stdout",
     "output_type": "stream",
     "text": [
      "nilai c |= True, nilai c menjadi True\n"
     ]
    }
   ],
   "source": [
    "c = True\n",
    "c &= True\n",
    "print(\"nilai c |= True, nilai c menjadi\",c)"
   ]
  },
  {
   "cell_type": "code",
   "execution_count": 32,
   "metadata": {},
   "outputs": [
    {
     "name": "stdout",
     "output_type": "stream",
     "text": [
      "nilai c= True\n",
      "nilai c |= False, nilai c menjadi True\n"
     ]
    }
   ],
   "source": [
    "# XOR\n",
    "c = True\n",
    "print(\"nilai c=\",c)\n",
    "c ^= False\n",
    "print(\"nilai c |= False, nilai c menjadi\",c)"
   ]
  },
  {
   "cell_type": "code",
   "execution_count": 33,
   "metadata": {},
   "outputs": [
    {
     "name": "stdout",
     "output_type": "stream",
     "text": [
      "nilai c= True\n",
      "nilai c |= True, nilai c menjadi False\n"
     ]
    }
   ],
   "source": [
    "c = True\n",
    "print(\"nilai c=\",c)\n",
    "c ^= True\n",
    "print(\"nilai c |= True, nilai c menjadi\",c)"
   ]
  },
  {
   "cell_type": "code",
   "execution_count": 35,
   "metadata": {},
   "outputs": [
    {
     "name": "stdout",
     "output_type": "stream",
     "text": [
      "nilai d = 0100\n"
     ]
    }
   ],
   "source": [
    "# MOVE\n",
    "d = 0b0100\n",
    "print(\"nilai d =\",format(d,'04b'))"
   ]
  },
  {
   "cell_type": "code",
   "execution_count": 36,
   "metadata": {},
   "outputs": [
    {
     "name": "stdout",
     "output_type": "stream",
     "text": [
      "nilai d >>=2, nilai d menjadi 0001\n"
     ]
    }
   ],
   "source": [
    "d >>= 2\n",
    "print(\"nilai d >>=2, nilai d menjadi\", format(d,'04b'))"
   ]
  },
  {
   "cell_type": "code",
   "execution_count": 37,
   "metadata": {},
   "outputs": [
    {
     "name": "stdout",
     "output_type": "stream",
     "text": [
      "nilai d <<= 1, nilai d menjadi 0010\n"
     ]
    }
   ],
   "source": [
    "d <<= 1\n",
    "print(\"nilai d <<= 1, nilai d menjadi\", format(d,'04b'))"
   ]
  }
 ],
 "metadata": {
  "kernelspec": {
   "display_name": "Python 3",
   "language": "python",
   "name": "python3"
  },
  "language_info": {
   "codemirror_mode": {
    "name": "ipython",
    "version": 3
   },
   "file_extension": ".py",
   "mimetype": "text/x-python",
   "name": "python",
   "nbconvert_exporter": "python",
   "pygments_lexer": "ipython3",
   "version": "3.7.4"
  }
 },
 "nbformat": 4,
 "nbformat_minor": 2
}
