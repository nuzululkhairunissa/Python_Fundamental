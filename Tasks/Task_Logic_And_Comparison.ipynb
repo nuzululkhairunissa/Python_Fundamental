{
 "cells": [
  {
   "cell_type": "code",
   "execution_count": 3,
   "metadata": {},
   "outputs": [
    {
     "name": "stdout",
     "output_type": "stream",
     "text": [
      "masukan angka yang bernilai\n",
      "kurang dari 3\n",
      "atau\n",
      "lebih besar dari 10\n",
      "3\n",
      "Kurang dari 3=  False\n",
      "Lebih dari 3=  False\n",
      "angka yang anda masukkan:  False\n"
     ]
    }
   ],
   "source": [
    "inputUser = float(input(\"masukan angka yang bernilai\\nkurang dari 3\\natau\\nlebih besar dari 10\\n\"))\n",
    "\n",
    "# +++++++3------------\n",
    "# Memeriksa angka kurang dari 3\n",
    "isKurangDari = (inputUser < 3)\n",
    "print(\"Kurang dari 3= \", isKurangDari)\n",
    "\n",
    "# ------------10++++++++++\n",
    "# Memeriksa angka lebih dari 10\n",
    "isLebihDari = (inputUser > 10)\n",
    "print(\"Lebih dari 3= \",isLebihDari)\n",
    "\n",
    "# +++++++3-------10++++++++\n",
    "isCorrect = isKurangDari or isLebihDari\n",
    "print(\"angka yang anda masukkan: \", isCorrect)"
   ]
  },
  {
   "cell_type": "code",
   "execution_count": 4,
   "metadata": {},
   "outputs": [
    {
     "name": "stdout",
     "output_type": "stream",
     "text": [
      "masukan angka yang bernilai\n",
      "lebih dari 3\n",
      "dan\n",
      "kurang dari 10\n",
      "3\n",
      "Lebih dari 3 =  False\n",
      "Kurang dari 3 =  True\n",
      "angka yang anda masukkan:  False\n"
     ]
    }
   ],
   "source": [
    "# ------3+++++++10-------\n",
    "inputUser = float(input(\"masukan angka yang bernilai\\nlebih dari 3\\ndan\\nkurang dari 10\\n\"))\n",
    "\n",
    "# ------3++++++++++++++++\n",
    "# lebih dari 3\n",
    "isLebihDari = inputUser > 3\n",
    "print(\"Lebih dari 3 = \",isLebihDari)\n",
    "\n",
    "#+++++++++++++++10--------\n",
    "# kurang dari 10/\n",
    "isKurangDari = inputUser < 10\n",
    "print(\"Kurang dari 3 = \",isKurangDari)\n",
    "\n",
    "# ------3+++++++10-------\n",
    "isCorrect = isKurangDari and isLebihDari\n",
    "print(\"angka yang anda masukkan: \", isCorrect)"
   ]
  },
  {
   "cell_type": "code",
   "execution_count": null,
   "metadata": {},
   "outputs": [],
   "source": []
  }
 ],
 "metadata": {
  "kernelspec": {
   "display_name": "Python 3",
   "language": "python",
   "name": "python3"
  },
  "language_info": {
   "codemirror_mode": {
    "name": "ipython",
    "version": 3
   },
   "file_extension": ".py",
   "mimetype": "text/x-python",
   "name": "python",
   "nbconvert_exporter": "python",
   "pygments_lexer": "ipython3",
   "version": "3.7.4"
  }
 },
 "nbformat": 4,
 "nbformat_minor": 2
}
